{
 "cells": [
  {
   "cell_type": "markdown",
   "metadata": {
    "colab_type": "text",
    "id": "985eekNn1mfL"
   },
   "source": [
    "# Práctica Independiente Python Avanzado"
   ]
  },
  {
   "cell_type": "markdown",
   "metadata": {
    "colab_type": "text",
    "id": "Z8EyHtQR1mfM"
   },
   "source": [
    "Se define una lista de diccionarios, con el que se desarrollará la práctica."
   ]
  },
  {
   "cell_type": "code",
   "execution_count": 4,
   "metadata": {
    "colab": {
     "autoexec": {
      "startup": false,
      "wait_interval": 0
     }
    },
    "colab_type": "code",
    "id": "4NasTiJc1mfN"
   },
   "outputs": [],
   "source": [
    "# Lista de diccionarios con claves \"name\", \"imdb\" y \"category\"\n",
    "\n",
    "movies = [\n",
    "    {\n",
    "    \"name\": \"Usual Suspects\", \n",
    "    \"imdb\": 7.0,\n",
    "    \"category\": \"Thriller\"\n",
    "    },\n",
    "    {\n",
    "    \"name\": \"Hitman\",\n",
    "    \"imdb\": 6.3,\n",
    "    \"category\": \"Action\"\n",
    "    },\n",
    "    {\n",
    "    \"name\": \"Dark Knight\",\n",
    "    \"imdb\": 9.0,\n",
    "    \"category\": \"Adventure\"\n",
    "    },\n",
    "    {\n",
    "    \"name\": \"The Help\",\n",
    "    \"imdb\": 8.0,\n",
    "    \"category\": \"Drama\"\n",
    "    },\n",
    "    {\n",
    "    \"name\": \"The Choice\",\n",
    "    \"imdb\": 6.2,\n",
    "    \"category\": \"Romance\"\n",
    "    },\n",
    "    {\n",
    "    \"name\": \"Colonia\",\n",
    "    \"imdb\": 7.4,\n",
    "    \"category\": \"Romance\"\n",
    "    },\n",
    "    {\n",
    "    \"name\": \"Love\",\n",
    "    \"imdb\": 6.0,\n",
    "    \"category\": \"Romance\"\n",
    "    },\n",
    "    {\n",
    "    \"name\": \"Bride Wars\",\n",
    "    \"imdb\": 5.4,\n",
    "    \"category\": \"Romance\"\n",
    "    },\n",
    "    {\n",
    "    \"name\": \"AlphaJet\",\n",
    "    \"imdb\": 3.2,\n",
    "    \"category\": \"War\"\n",
    "    },\n",
    "    {\n",
    "    \"name\": \"Ringing Crime\",\n",
    "    \"imdb\": 4.0,\n",
    "    \"category\": \"Crime\"\n",
    "    },\n",
    "    {\n",
    "    \"name\": \"Joking muck\",\n",
    "    \"imdb\": 7.2,\n",
    "    \"category\": \"Comedy\"\n",
    "    },\n",
    "    {\n",
    "    \"name\": \"What is the name\",\n",
    "    \"imdb\": 9.2,\n",
    "    \"category\": \"Suspense\"\n",
    "    },\n",
    "    {\n",
    "    \"name\": \"Detective\",\n",
    "    \"imdb\": 7.0,\n",
    "    \"category\": \"Suspense\"\n",
    "    },\n",
    "    {\n",
    "    \"name\": \"Exam\",\n",
    "    \"imdb\": 4.2,\n",
    "    \"category\": \"Thriller\"\n",
    "    },\n",
    "    {\n",
    "    \"name\": \"We Two\",\n",
    "    \"imdb\": 7.2,\n",
    "    \"category\": \"Romance\"\n",
    "    }\n",
    "]"
   ]
  },
  {
   "cell_type": "markdown",
   "metadata": {
    "colab_type": "text",
    "id": "m-P7y7-A1mfQ"
   },
   "source": [
    "### Ejercicio 1"
   ]
  },
  {
   "cell_type": "markdown",
   "metadata": {
    "colab_type": "text",
    "id": "fJ6HJbHn1mfQ"
   },
   "source": [
    "#### Escribir una función que toma una película (movie) y retorna True si su score IMDB es mayor a 5.5 y False en caso contrario"
   ]
  },
  {
   "cell_type": "code",
   "execution_count": 17,
   "metadata": {
    "colab": {
     "autoexec": {
      "startup": false,
      "wait_interval": 0
     }
    },
    "colab_type": "code",
    "id": "TbkdG4_D1mfR"
   },
   "outputs": [
    {
     "data": {
      "text/plain": [
       "[True,\n",
       " True,\n",
       " True,\n",
       " True,\n",
       " True,\n",
       " True,\n",
       " True,\n",
       " False,\n",
       " False,\n",
       " False,\n",
       " True,\n",
       " True,\n",
       " True,\n",
       " False,\n",
       " True]"
      ]
     },
     "execution_count": 17,
     "metadata": {},
     "output_type": "execute_result"
    }
   ],
   "source": [
    "def imdbMayor(lista,valor):\n",
    "    return [True if x[\"imdb\"] > valor else False for x in lista]\n",
    "\n",
    "imdbMayor(movies,5.5)\n"
   ]
  },
  {
   "cell_type": "markdown",
   "metadata": {
    "colab_type": "text",
    "id": "kl6QfCau1mfT"
   },
   "source": [
    "### Ejercicio 2"
   ]
  },
  {
   "cell_type": "markdown",
   "metadata": {
    "colab_type": "text",
    "id": "i7XJ0fKx1mfU"
   },
   "source": [
    "#### Escribir una función que retorna la sub lista de las películas con score IMDB mayor a 5.5\n",
    "(Hint: Puede ser útil utilizar la función definida en el punto anterior)."
   ]
  },
  {
   "cell_type": "code",
   "execution_count": 18,
   "metadata": {
    "colab": {
     "autoexec": {
      "startup": false,
      "wait_interval": 0
     }
    },
    "colab_type": "code",
    "id": "Rcvs148x1mfV"
   },
   "outputs": [
    {
     "data": {
      "text/plain": [
       "[{'name': 'Usual Suspects', 'imdb': 7.0, 'category': 'Thriller'},\n",
       " {'name': 'Hitman', 'imdb': 6.3, 'category': 'Action'},\n",
       " {'name': 'Dark Knight', 'imdb': 9.0, 'category': 'Adventure'},\n",
       " {'name': 'The Help', 'imdb': 8.0, 'category': 'Drama'},\n",
       " {'name': 'The Choice', 'imdb': 6.2, 'category': 'Romance'},\n",
       " {'name': 'Colonia', 'imdb': 7.4, 'category': 'Romance'},\n",
       " {'name': 'Love', 'imdb': 6.0, 'category': 'Romance'},\n",
       " {'name': 'Joking muck', 'imdb': 7.2, 'category': 'Comedy'},\n",
       " {'name': 'What is the name', 'imdb': 9.2, 'category': 'Suspense'},\n",
       " {'name': 'Detective', 'imdb': 7.0, 'category': 'Suspense'},\n",
       " {'name': 'We Two', 'imdb': 7.2, 'category': 'Romance'}]"
      ]
     },
     "execution_count": 18,
     "metadata": {},
     "output_type": "execute_result"
    }
   ],
   "source": [
    "def soloImdbMayor(lista,valor):\n",
    "    return [x for x in lista if x[\"imdb\"] > valor]\n",
    "\n",
    "soloImdbMayor(movies,5.5)"
   ]
  },
  {
   "cell_type": "markdown",
   "metadata": {
    "colab_type": "text",
    "id": "mHT9eoeb1mfX"
   },
   "source": [
    "### Ejercicio 3"
   ]
  },
  {
   "cell_type": "markdown",
   "metadata": {
    "colab_type": "text",
    "id": "ZzzsdAEZ1mfX"
   },
   "source": [
    "#### Escribir una función que toma el nombre de una categoría y retorna únicamente las películas que pertenecen a dicha categoría."
   ]
  },
  {
   "cell_type": "code",
   "execution_count": 20,
   "metadata": {
    "colab": {
     "autoexec": {
      "startup": false,
      "wait_interval": 0
     }
    },
    "colab_type": "code",
    "id": "fK6fdYfU1mfY"
   },
   "outputs": [
    {
     "data": {
      "text/plain": [
       "[{'name': 'Dark Knight', 'imdb': 9.0, 'category': 'Adventure'}]"
      ]
     },
     "execution_count": 20,
     "metadata": {},
     "output_type": "execute_result"
    }
   ],
   "source": [
    "def soloCategory(lista,valor):\n",
    "    return [x for x in lista if x[\"category\"] == valor]\n",
    "\n",
    "soloCategory(movies,\"Adventure\")"
   ]
  },
  {
   "cell_type": "markdown",
   "metadata": {
    "colab_type": "text",
    "id": "RtAYosLx1mfa"
   },
   "source": [
    "### Ejercicio 4"
   ]
  },
  {
   "cell_type": "markdown",
   "metadata": {
    "colab_type": "text",
    "id": "dZV3G0kZ1mfb"
   },
   "source": [
    "#### Escribir una función que recibe una lista de películas y calcule su promedio de score IMDB"
   ]
  },
  {
   "cell_type": "code",
   "execution_count": 60,
   "metadata": {
    "colab": {
     "autoexec": {
      "startup": false,
      "wait_interval": 0
     }
    },
    "colab_type": "code",
    "id": "s73KyEDc1mfb"
   },
   "outputs": [
    {
     "data": {
      "text/plain": [
       "6.333333333333333"
      ]
     },
     "execution_count": 60,
     "metadata": {},
     "output_type": "execute_result"
    }
   ],
   "source": [
    "def avgIMDB(lista):\n",
    "    sum = 0\n",
    "    for item in lista:\n",
    "        sum += int(item[\"imdb\"])\n",
    "    return sum/len(lista)\n",
    "\n",
    "avgIMDB(movies)\n",
    "\n"
   ]
  },
  {
   "cell_type": "markdown",
   "metadata": {
    "colab_type": "text",
    "id": "qTAaisgv1mfd"
   },
   "source": [
    "### Ejercicio 5"
   ]
  },
  {
   "cell_type": "markdown",
   "metadata": {
    "colab_type": "text",
    "id": "Ra1Y6f7r1mfe"
   },
   "source": [
    "#### BONUS: Escribir una función que recibe una categoría y computa su promedio de score IMDB\n",
    "(Hint: se pueden reutilizar funciones ya definidas)"
   ]
  },
  {
   "cell_type": "code",
   "execution_count": 51,
   "metadata": {
    "colab": {
     "autoexec": {
      "startup": false,
      "wait_interval": 0
     }
    },
    "colab_type": "code",
    "id": "RNP7bLQW1mff"
   },
   "outputs": [
    {
     "data": {
      "text/plain": [
       "6.2"
      ]
     },
     "execution_count": 51,
     "metadata": {},
     "output_type": "execute_result"
    }
   ],
   "source": [
    "avgIMDB(soloCategory(movies,\"Romance\"))"
   ]
  },
  {
   "cell_type": "code",
   "execution_count": null,
   "metadata": {},
   "outputs": [],
   "source": []
  },
  {
   "cell_type": "code",
   "execution_count": null,
   "metadata": {},
   "outputs": [],
   "source": []
  }
 ],
 "metadata": {
  "colab": {
   "default_view": {},
   "name": "PRÁCTICA_INDEPENDIENTE_Python.ipynb",
   "provenance": [],
   "version": "0.3.2",
   "views": {}
  },
  "kernelspec": {
   "display_name": "Python 3",
   "language": "python",
   "name": "python3"
  },
  "language_info": {
   "codemirror_mode": {
    "name": "ipython",
    "version": 3
   },
   "file_extension": ".py",
   "mimetype": "text/x-python",
   "name": "python",
   "nbconvert_exporter": "python",
   "pygments_lexer": "ipython3",
   "version": "3.7.1"
  }
 },
 "nbformat": 4,
 "nbformat_minor": 1
}
