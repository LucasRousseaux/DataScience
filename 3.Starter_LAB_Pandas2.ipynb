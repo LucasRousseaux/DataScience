{
 "cells": [
  {
   "cell_type": "markdown",
   "metadata": {
    "colab_type": "text",
    "id": "pKyEhhzCu3E-"
   },
   "source": [
    "# LAB: Utilizando Pandas con datos de oferta de departamentos en la CABA"
   ]
  },
  {
   "cell_type": "markdown",
   "metadata": {
    "colab_type": "text",
    "id": "5hISqxRyu3FA"
   },
   "source": [
    "## Introducción\n",
    "\n",
    "El objetivo de este LAB es trabajar con los conceptos de agregación a través de `groupby` y `pivot tables` mencionadas en la sección teórica. \n",
    "\n",
    "> Para eso usaremos un dataset elaborado por el Gobierno de la Ciudad de Buenos Aires que releva el precio de oferta de venta de terrenos de la Ciudad Autónoma de Buenos Aires, representado en puntos de valor del suelo correspondientes a cada parcela. Con el fin de analizar el precio de oferta, se toma como unidad de referencia el precio del metro cuadrado (m2). Se utiliza el precio en dólares, puesto que ésta es la moneda que se usa en el mercado como referencia para este tipo de transacciones. Otras variables consideradas son las dimensiones, ubicación geográfica, y la normativa del Código de Planeamiento Urbano que rige la zona en que el terreno analizado se localiza. \n",
    "\n",
    "Pueden descargar el dataset y otros elaborados para los años 2001-2015 desde este [link](\n",
    "https://data.buenosaires.gob.ar/dataset/departamentos-en-venta). En el pdf adjunto pueden encontrar una descripción sucinta de las variables relevadas."
   ]
  },
  {
   "cell_type": "markdown",
   "metadata": {
    "colab_type": "text",
    "id": "U5MYaIr9u3FC"
   },
   "source": [
    "Importamos los paquetes necesarios y cargamos los datos."
   ]
  },
  {
   "cell_type": "code",
   "execution_count": 1,
   "metadata": {
    "colab": {},
    "colab_type": "code",
    "id": "Gh-sPyopu3FE"
   },
   "outputs": [],
   "source": [
    "import numpy as np\n",
    "import pandas as pd\n",
    "from scipy import stats, integrate\n",
    "import seaborn as sns\n",
    "import matplotlib.pyplot as plt\n",
    "sns.set(style=\"ticks\")"
   ]
  },
  {
   "cell_type": "code",
   "execution_count": 2,
   "metadata": {
    "colab": {},
    "colab_type": "code",
    "id": "_axOufuQu3FK"
   },
   "outputs": [],
   "source": [
    "df = pd.read_csv(\"../Data/ED_deptos_venta_2014.csv\",encoding = \"latin1\", sep=\";\")"
   ]
  },
  {
   "cell_type": "code",
   "execution_count": 3,
   "metadata": {
    "colab": {},
    "colab_type": "code",
    "id": "_Ece1OkCu3FN",
    "scrolled": true
   },
   "outputs": [
    {
     "name": "stdout",
     "output_type": "stream",
     "text": [
      "<class 'pandas.core.frame.DataFrame'>\n",
      "Int64Index: 12724 entries, 1 to 12724\n",
      "Data columns (total 17 columns):\n",
      "CALLE         12724 non-null object\n",
      "NUMERO        12724 non-null int64\n",
      "M2            12724 non-null int64\n",
      "DOLARES       12724 non-null int64\n",
      "U_S_M2        12724 non-null float64\n",
      "AMBIENTES     12724 non-null int64\n",
      "ANTIGUEDAD    9942 non-null float64\n",
      "ORIENT        12724 non-null object\n",
      "BAULERA       12724 non-null object\n",
      "COCHERA       12724 non-null object\n",
      "BAÃ.OS        12724 non-null int64\n",
      "LAVADERO      12724 non-null object\n",
      "TERRAZA       12724 non-null object\n",
      "BARRIO        12724 non-null object\n",
      "COMUNA        12724 non-null int64\n",
      "LON           12724 non-null float64\n",
      "LAT           12724 non-null float64\n",
      "dtypes: float64(4), int64(6), object(7)\n",
      "memory usage: 1.7+ MB\n"
     ]
    }
   ],
   "source": [
    "# Veamos los tipos de las columnas...\n",
    "df.info()"
   ]
  },
  {
   "cell_type": "code",
   "execution_count": 4,
   "metadata": {
    "colab": {},
    "colab_type": "code",
    "id": "y2XkbWGru3FR"
   },
   "outputs": [
    {
     "data": {
      "text/html": [
       "<div>\n",
       "<style scoped>\n",
       "    .dataframe tbody tr th:only-of-type {\n",
       "        vertical-align: middle;\n",
       "    }\n",
       "\n",
       "    .dataframe tbody tr th {\n",
       "        vertical-align: top;\n",
       "    }\n",
       "\n",
       "    .dataframe thead th {\n",
       "        text-align: right;\n",
       "    }\n",
       "</style>\n",
       "<table border=\"1\" class=\"dataframe\">\n",
       "  <thead>\n",
       "    <tr style=\"text-align: right;\">\n",
       "      <th></th>\n",
       "      <th>CALLE</th>\n",
       "      <th>NUMERO</th>\n",
       "      <th>M2</th>\n",
       "      <th>DOLARES</th>\n",
       "      <th>U_S_M2</th>\n",
       "      <th>AMBIENTES</th>\n",
       "      <th>ANTIGUEDAD</th>\n",
       "      <th>ORIENT</th>\n",
       "      <th>BAULERA</th>\n",
       "      <th>COCHERA</th>\n",
       "      <th>BAÃ.OS</th>\n",
       "      <th>LAVADERO</th>\n",
       "      <th>TERRAZA</th>\n",
       "      <th>BARRIO</th>\n",
       "      <th>COMUNA</th>\n",
       "      <th>LON</th>\n",
       "      <th>LAT</th>\n",
       "    </tr>\n",
       "  </thead>\n",
       "  <tbody>\n",
       "    <tr>\n",
       "      <th>1</th>\n",
       "      <td>11 DE SEPTIEMBRE DE 1888</td>\n",
       "      <td>700</td>\n",
       "      <td>560</td>\n",
       "      <td>1270000</td>\n",
       "      <td>2267.9</td>\n",
       "      <td>5</td>\n",
       "      <td>20.0</td>\n",
       "      <td>FRENTE</td>\n",
       "      <td>Si</td>\n",
       "      <td>Si</td>\n",
       "      <td>4</td>\n",
       "      <td>No</td>\n",
       "      <td>Si</td>\n",
       "      <td>PALERMO</td>\n",
       "      <td>14</td>\n",
       "      <td>-58.439523</td>\n",
       "      <td>-34.570692</td>\n",
       "    </tr>\n",
       "    <tr>\n",
       "      <th>2</th>\n",
       "      <td>11 DE SEPTIEMBRE DE 1888</td>\n",
       "      <td>800</td>\n",
       "      <td>126</td>\n",
       "      <td>295000</td>\n",
       "      <td>2341.3</td>\n",
       "      <td>4</td>\n",
       "      <td>45.0</td>\n",
       "      <td>S/D</td>\n",
       "      <td>No</td>\n",
       "      <td>Si</td>\n",
       "      <td>0</td>\n",
       "      <td>No</td>\n",
       "      <td>No</td>\n",
       "      <td>PALERMO</td>\n",
       "      <td>14</td>\n",
       "      <td>-58.440256</td>\n",
       "      <td>-34.570313</td>\n",
       "    </tr>\n",
       "    <tr>\n",
       "      <th>3</th>\n",
       "      <td>11 DE SEPTIEMBRE DE 1888</td>\n",
       "      <td>900</td>\n",
       "      <td>109</td>\n",
       "      <td>320000</td>\n",
       "      <td>2935.8</td>\n",
       "      <td>4</td>\n",
       "      <td>20.0</td>\n",
       "      <td>FRENTE</td>\n",
       "      <td>Si</td>\n",
       "      <td>Si</td>\n",
       "      <td>3</td>\n",
       "      <td>Si</td>\n",
       "      <td>Si</td>\n",
       "      <td>PALERMO</td>\n",
       "      <td>14</td>\n",
       "      <td>-58.441321</td>\n",
       "      <td>-34.569487</td>\n",
       "    </tr>\n",
       "    <tr>\n",
       "      <th>4</th>\n",
       "      <td>11 DE SEPTIEMBRE DE 1888</td>\n",
       "      <td>900</td>\n",
       "      <td>150</td>\n",
       "      <td>400000</td>\n",
       "      <td>2666.7</td>\n",
       "      <td>4</td>\n",
       "      <td>37.0</td>\n",
       "      <td>FRENTE</td>\n",
       "      <td>Si</td>\n",
       "      <td>Si</td>\n",
       "      <td>2</td>\n",
       "      <td>Si</td>\n",
       "      <td>Si</td>\n",
       "      <td>PALERMO</td>\n",
       "      <td>14</td>\n",
       "      <td>-58.441321</td>\n",
       "      <td>-34.569487</td>\n",
       "    </tr>\n",
       "    <tr>\n",
       "      <th>5</th>\n",
       "      <td>11 DE SEPTIEMBRE DE 1888</td>\n",
       "      <td>900</td>\n",
       "      <td>270</td>\n",
       "      <td>950000</td>\n",
       "      <td>3518.5</td>\n",
       "      <td>4</td>\n",
       "      <td>30.0</td>\n",
       "      <td>FRENTE</td>\n",
       "      <td>No</td>\n",
       "      <td>No</td>\n",
       "      <td>3</td>\n",
       "      <td>No</td>\n",
       "      <td>Si</td>\n",
       "      <td>PALERMO</td>\n",
       "      <td>14</td>\n",
       "      <td>-58.441321</td>\n",
       "      <td>-34.569487</td>\n",
       "    </tr>\n",
       "  </tbody>\n",
       "</table>\n",
       "</div>"
      ],
      "text/plain": [
       "                      CALLE  NUMERO   M2  DOLARES  U_S_M2  AMBIENTES  \\\n",
       "1  11 DE SEPTIEMBRE DE 1888     700  560  1270000  2267.9          5   \n",
       "2  11 DE SEPTIEMBRE DE 1888     800  126   295000  2341.3          4   \n",
       "3  11 DE SEPTIEMBRE DE 1888     900  109   320000  2935.8          4   \n",
       "4  11 DE SEPTIEMBRE DE 1888     900  150   400000  2666.7          4   \n",
       "5  11 DE SEPTIEMBRE DE 1888     900  270   950000  3518.5          4   \n",
       "\n",
       "   ANTIGUEDAD  ORIENT BAULERA COCHERA  BAÃ.OS LAVADERO TERRAZA   BARRIO  \\\n",
       "1        20.0  FRENTE      Si      Si       4       No      Si  PALERMO   \n",
       "2        45.0     S/D      No      Si       0       No      No  PALERMO   \n",
       "3        20.0  FRENTE      Si      Si       3       Si      Si  PALERMO   \n",
       "4        37.0  FRENTE      Si      Si       2       Si      Si  PALERMO   \n",
       "5        30.0  FRENTE      No      No       3       No      Si  PALERMO   \n",
       "\n",
       "   COMUNA        LON        LAT  \n",
       "1      14 -58.439523 -34.570692  \n",
       "2      14 -58.440256 -34.570313  \n",
       "3      14 -58.441321 -34.569487  \n",
       "4      14 -58.441321 -34.569487  \n",
       "5      14 -58.441321 -34.569487  "
      ]
     },
     "execution_count": 4,
     "metadata": {},
     "output_type": "execute_result"
    }
   ],
   "source": [
    "# Revisamos que los datos se han importado correctamente\n",
    "df.head()\n"
   ]
  },
  {
   "cell_type": "markdown",
   "metadata": {
    "colab_type": "text",
    "id": "yafFH-0Du3FW"
   },
   "source": [
    "### 1. ¿Cuál es el valor promedio del metro cuadrado en la CABA?"
   ]
  },
  {
   "cell_type": "code",
   "execution_count": 8,
   "metadata": {
    "colab": {},
    "colab_type": "code",
    "id": "-izDz188u3FX"
   },
   "outputs": [
    {
     "data": {
      "text/plain": [
       "2320.509525306507"
      ]
     },
     "execution_count": 8,
     "metadata": {},
     "output_type": "execute_result"
    }
   ],
   "source": [
    "df['U_S_M2'].mean()"
   ]
  },
  {
   "cell_type": "markdown",
   "metadata": {
    "colab_type": "text",
    "id": "znjOqFQnu3Fb"
   },
   "source": [
    "### 2. ¿Cómo es el precio promedio para cada cuartil de antigüedad de las viviendas en la CABA?\n",
    "Resolver utilizando groupby()"
   ]
  },
  {
   "cell_type": "code",
   "execution_count": 17,
   "metadata": {
    "colab": {},
    "colab_type": "code",
    "id": "eszUgFf-u3Fc"
   },
   "outputs": [
    {
     "data": {
      "text/plain": [
       "qant\n",
       "(-0.001, 5.0]    183477.107300\n",
       "(5.0, 30.0]      250570.962068\n",
       "(30.0, 40.0]     180525.217157\n",
       "(40.0, 115.0]    212822.615945\n",
       "Name: DOLARES, dtype: float64"
      ]
     },
     "execution_count": 17,
     "metadata": {},
     "output_type": "execute_result"
    }
   ],
   "source": [
    "df['qant'] = pd.qcut(df['ANTIGUEDAD'],4)\n",
    "df.groupby('qant')['DOLARES'].mean()\n"
   ]
  },
  {
   "cell_type": "markdown",
   "metadata": {
    "colab_type": "text",
    "id": "xF2lq_rsu3Ff"
   },
   "source": [
    "### 3. ¿Cómo es el precio promedio para cada decil de tamaño (columna M2)?\n",
    "Resolver utilizando groupby()"
   ]
  },
  {
   "cell_type": "code",
   "execution_count": 18,
   "metadata": {
    "colab": {},
    "colab_type": "code",
    "id": "-jXDGmtNu3Fh"
   },
   "outputs": [
    {
     "data": {
      "text/plain": [
       "qm2\n",
       "(13.999, 34.0]      72342.990719\n",
       "(34.0, 40.0]        85343.722772\n",
       "(40.0, 47.0]        99520.104380\n",
       "(47.0, 55.0]       112046.517564\n",
       "(55.0, 63.0]       130499.336339\n",
       "(63.0, 74.0]       152753.276744\n",
       "(74.0, 89.1]       173960.781775\n",
       "(89.1, 115.0]      226988.144186\n",
       "(115.0, 170.0]     343407.225730\n",
       "(170.0, 1500.0]    717688.368254\n",
       "Name: DOLARES, dtype: float64"
      ]
     },
     "execution_count": 18,
     "metadata": {},
     "output_type": "execute_result"
    }
   ],
   "source": [
    "df['qm2'] = pd.qcut(df['M2'],10)\n",
    "df.groupby('qm2')['DOLARES'].mean()\n"
   ]
  },
  {
   "cell_type": "markdown",
   "metadata": {
    "colab_type": "text",
    "id": "9QOsj_gsu3Fn"
   },
   "source": [
    "### 4. ¿Cuál es la media de precio por metro cuadrado para cada barrio de la CABA? Ordenar los datos para indicar cuál es el barrio más caro.\n",
    "Nota: realizar el cálculo tanto con groupby como con pivot tables"
   ]
  },
  {
   "cell_type": "code",
   "execution_count": 22,
   "metadata": {
    "colab": {},
    "colab_type": "code",
    "id": "0fC3zkXgu3Fp"
   },
   "outputs": [
    {
     "data": {
      "text/plain": [
       "BARRIO\n",
       "PUERTO MADERO        999475.961538\n",
       "RETIRO               427053.558052\n",
       "PALERMO              403157.171960\n",
       "RECOLETA             338458.760000\n",
       "BELGRANO             264917.589286\n",
       "VILLA DEVOTO         214946.938776\n",
       "NUÃEZ               204392.721805\n",
       "COLEGIALES           184189.470899\n",
       "SAAVEDRA             175867.122807\n",
       "VILLA ORTUZAR        174837.242647\n",
       "BARRACAS             170413.749153\n",
       "CABALLITO            168226.041078\n",
       "SAN TELMO            165583.761905\n",
       "COGHLAN              152419.780220\n",
       "VILLA GRAL. MITRE    150588.188976\n",
       "VILLA CRESPO         149815.472103\n",
       "MONTSERRAT           146956.454183\n",
       "LINIERS              139464.285714\n",
       "VILLA URQUIZA        138776.289720\n",
       "AGRONOMIA            137285.714286\n",
       "FLORES               132332.893993\n",
       "VILLA LURO           131881.818182\n",
       "VILLA DEL PARQUE     131768.977099\n",
       "VILLA PUEYRREDON     130363.265306\n",
       "PARQUE CHACABUCO     130183.746154\n",
       "CHACARITA            127846.643939\n",
       "ALMAGRO              127730.219459\n",
       "PARQUE CHAS          127326.845070\n",
       "SAN NICOLAS          122778.560886\n",
       "MATADEROS            120408.041667\n",
       "BALVANERA            119611.004897\n",
       "PATERNAL             118117.647059\n",
       "PARQUE PATRICIOS     118039.347222\n",
       "VERSALLES            115700.000000\n",
       "MONTE CASTRO         114795.471154\n",
       "BOEDO                113460.076555\n",
       "SAN CRISTOBAL        111618.855000\n",
       "VELEZ SARSFIELD      110810.415584\n",
       "FLORESTA             109538.025641\n",
       "BOCA                 105390.602094\n",
       "PARQUE AVELLANEDA    104530.421053\n",
       "VILLA SANTA RITA     103018.181818\n",
       "CONSTITUCION         102435.944751\n",
       "VILLA RIACHUELO       90200.000000\n",
       "VILLA REAL            87444.444444\n",
       "VILLA SOLDATI         87150.000000\n",
       "VILLA LUGANO          77437.500000\n",
       "NUEVA POMPEYA         74044.447368\n",
       "Name: DOLARES, dtype: float64"
      ]
     },
     "execution_count": 22,
     "metadata": {},
     "output_type": "execute_result"
    }
   ],
   "source": [
    "df.groupby('BARRIO')['DOLARES'].mean().sort_values(ascending = False)"
   ]
  },
  {
   "cell_type": "code",
   "execution_count": 29,
   "metadata": {
    "colab": {},
    "colab_type": "code",
    "id": "xDl7iOF-u3Fu"
   },
   "outputs": [
    {
     "data": {
      "text/html": [
       "<div>\n",
       "<style scoped>\n",
       "    .dataframe tbody tr th:only-of-type {\n",
       "        vertical-align: middle;\n",
       "    }\n",
       "\n",
       "    .dataframe tbody tr th {\n",
       "        vertical-align: top;\n",
       "    }\n",
       "\n",
       "    .dataframe thead th {\n",
       "        text-align: right;\n",
       "    }\n",
       "</style>\n",
       "<table border=\"1\" class=\"dataframe\">\n",
       "  <thead>\n",
       "    <tr style=\"text-align: right;\">\n",
       "      <th></th>\n",
       "      <th>DOLARES</th>\n",
       "    </tr>\n",
       "    <tr>\n",
       "      <th>BARRIO</th>\n",
       "      <th></th>\n",
       "    </tr>\n",
       "  </thead>\n",
       "  <tbody>\n",
       "    <tr>\n",
       "      <th>PUERTO MADERO</th>\n",
       "      <td>999475.961538</td>\n",
       "    </tr>\n",
       "    <tr>\n",
       "      <th>RETIRO</th>\n",
       "      <td>427053.558052</td>\n",
       "    </tr>\n",
       "    <tr>\n",
       "      <th>PALERMO</th>\n",
       "      <td>403157.171960</td>\n",
       "    </tr>\n",
       "    <tr>\n",
       "      <th>RECOLETA</th>\n",
       "      <td>338458.760000</td>\n",
       "    </tr>\n",
       "    <tr>\n",
       "      <th>BELGRANO</th>\n",
       "      <td>264917.589286</td>\n",
       "    </tr>\n",
       "    <tr>\n",
       "      <th>VILLA DEVOTO</th>\n",
       "      <td>214946.938776</td>\n",
       "    </tr>\n",
       "    <tr>\n",
       "      <th>NUÃEZ</th>\n",
       "      <td>204392.721805</td>\n",
       "    </tr>\n",
       "    <tr>\n",
       "      <th>COLEGIALES</th>\n",
       "      <td>184189.470899</td>\n",
       "    </tr>\n",
       "    <tr>\n",
       "      <th>SAAVEDRA</th>\n",
       "      <td>175867.122807</td>\n",
       "    </tr>\n",
       "    <tr>\n",
       "      <th>VILLA ORTUZAR</th>\n",
       "      <td>174837.242647</td>\n",
       "    </tr>\n",
       "    <tr>\n",
       "      <th>BARRACAS</th>\n",
       "      <td>170413.749153</td>\n",
       "    </tr>\n",
       "    <tr>\n",
       "      <th>CABALLITO</th>\n",
       "      <td>168226.041078</td>\n",
       "    </tr>\n",
       "    <tr>\n",
       "      <th>SAN TELMO</th>\n",
       "      <td>165583.761905</td>\n",
       "    </tr>\n",
       "    <tr>\n",
       "      <th>COGHLAN</th>\n",
       "      <td>152419.780220</td>\n",
       "    </tr>\n",
       "    <tr>\n",
       "      <th>VILLA GRAL. MITRE</th>\n",
       "      <td>150588.188976</td>\n",
       "    </tr>\n",
       "    <tr>\n",
       "      <th>VILLA CRESPO</th>\n",
       "      <td>149815.472103</td>\n",
       "    </tr>\n",
       "    <tr>\n",
       "      <th>MONTSERRAT</th>\n",
       "      <td>146956.454183</td>\n",
       "    </tr>\n",
       "    <tr>\n",
       "      <th>LINIERS</th>\n",
       "      <td>139464.285714</td>\n",
       "    </tr>\n",
       "    <tr>\n",
       "      <th>VILLA URQUIZA</th>\n",
       "      <td>138776.289720</td>\n",
       "    </tr>\n",
       "    <tr>\n",
       "      <th>AGRONOMIA</th>\n",
       "      <td>137285.714286</td>\n",
       "    </tr>\n",
       "    <tr>\n",
       "      <th>FLORES</th>\n",
       "      <td>132332.893993</td>\n",
       "    </tr>\n",
       "    <tr>\n",
       "      <th>VILLA LURO</th>\n",
       "      <td>131881.818182</td>\n",
       "    </tr>\n",
       "    <tr>\n",
       "      <th>VILLA DEL PARQUE</th>\n",
       "      <td>131768.977099</td>\n",
       "    </tr>\n",
       "    <tr>\n",
       "      <th>VILLA PUEYRREDON</th>\n",
       "      <td>130363.265306</td>\n",
       "    </tr>\n",
       "    <tr>\n",
       "      <th>PARQUE CHACABUCO</th>\n",
       "      <td>130183.746154</td>\n",
       "    </tr>\n",
       "    <tr>\n",
       "      <th>CHACARITA</th>\n",
       "      <td>127846.643939</td>\n",
       "    </tr>\n",
       "    <tr>\n",
       "      <th>ALMAGRO</th>\n",
       "      <td>127730.219459</td>\n",
       "    </tr>\n",
       "    <tr>\n",
       "      <th>PARQUE CHAS</th>\n",
       "      <td>127326.845070</td>\n",
       "    </tr>\n",
       "    <tr>\n",
       "      <th>SAN NICOLAS</th>\n",
       "      <td>122778.560886</td>\n",
       "    </tr>\n",
       "    <tr>\n",
       "      <th>MATADEROS</th>\n",
       "      <td>120408.041667</td>\n",
       "    </tr>\n",
       "    <tr>\n",
       "      <th>BALVANERA</th>\n",
       "      <td>119611.004897</td>\n",
       "    </tr>\n",
       "    <tr>\n",
       "      <th>PATERNAL</th>\n",
       "      <td>118117.647059</td>\n",
       "    </tr>\n",
       "    <tr>\n",
       "      <th>PARQUE PATRICIOS</th>\n",
       "      <td>118039.347222</td>\n",
       "    </tr>\n",
       "    <tr>\n",
       "      <th>VERSALLES</th>\n",
       "      <td>115700.000000</td>\n",
       "    </tr>\n",
       "    <tr>\n",
       "      <th>MONTE CASTRO</th>\n",
       "      <td>114795.471154</td>\n",
       "    </tr>\n",
       "    <tr>\n",
       "      <th>BOEDO</th>\n",
       "      <td>113460.076555</td>\n",
       "    </tr>\n",
       "    <tr>\n",
       "      <th>SAN CRISTOBAL</th>\n",
       "      <td>111618.855000</td>\n",
       "    </tr>\n",
       "    <tr>\n",
       "      <th>VELEZ SARSFIELD</th>\n",
       "      <td>110810.415584</td>\n",
       "    </tr>\n",
       "    <tr>\n",
       "      <th>FLORESTA</th>\n",
       "      <td>109538.025641</td>\n",
       "    </tr>\n",
       "    <tr>\n",
       "      <th>BOCA</th>\n",
       "      <td>105390.602094</td>\n",
       "    </tr>\n",
       "    <tr>\n",
       "      <th>PARQUE AVELLANEDA</th>\n",
       "      <td>104530.421053</td>\n",
       "    </tr>\n",
       "    <tr>\n",
       "      <th>VILLA SANTA RITA</th>\n",
       "      <td>103018.181818</td>\n",
       "    </tr>\n",
       "    <tr>\n",
       "      <th>CONSTITUCION</th>\n",
       "      <td>102435.944751</td>\n",
       "    </tr>\n",
       "    <tr>\n",
       "      <th>VILLA RIACHUELO</th>\n",
       "      <td>90200.000000</td>\n",
       "    </tr>\n",
       "    <tr>\n",
       "      <th>VILLA REAL</th>\n",
       "      <td>87444.444444</td>\n",
       "    </tr>\n",
       "    <tr>\n",
       "      <th>VILLA SOLDATI</th>\n",
       "      <td>87150.000000</td>\n",
       "    </tr>\n",
       "    <tr>\n",
       "      <th>VILLA LUGANO</th>\n",
       "      <td>77437.500000</td>\n",
       "    </tr>\n",
       "    <tr>\n",
       "      <th>NUEVA POMPEYA</th>\n",
       "      <td>74044.447368</td>\n",
       "    </tr>\n",
       "  </tbody>\n",
       "</table>\n",
       "</div>"
      ],
      "text/plain": [
       "                         DOLARES\n",
       "BARRIO                          \n",
       "PUERTO MADERO      999475.961538\n",
       "RETIRO             427053.558052\n",
       "PALERMO            403157.171960\n",
       "RECOLETA           338458.760000\n",
       "BELGRANO           264917.589286\n",
       "VILLA DEVOTO       214946.938776\n",
       "NUÃEZ             204392.721805\n",
       "COLEGIALES         184189.470899\n",
       "SAAVEDRA           175867.122807\n",
       "VILLA ORTUZAR      174837.242647\n",
       "BARRACAS           170413.749153\n",
       "CABALLITO          168226.041078\n",
       "SAN TELMO          165583.761905\n",
       "COGHLAN            152419.780220\n",
       "VILLA GRAL. MITRE  150588.188976\n",
       "VILLA CRESPO       149815.472103\n",
       "MONTSERRAT         146956.454183\n",
       "LINIERS            139464.285714\n",
       "VILLA URQUIZA      138776.289720\n",
       "AGRONOMIA          137285.714286\n",
       "FLORES             132332.893993\n",
       "VILLA LURO         131881.818182\n",
       "VILLA DEL PARQUE   131768.977099\n",
       "VILLA PUEYRREDON   130363.265306\n",
       "PARQUE CHACABUCO   130183.746154\n",
       "CHACARITA          127846.643939\n",
       "ALMAGRO            127730.219459\n",
       "PARQUE CHAS        127326.845070\n",
       "SAN NICOLAS        122778.560886\n",
       "MATADEROS          120408.041667\n",
       "BALVANERA          119611.004897\n",
       "PATERNAL           118117.647059\n",
       "PARQUE PATRICIOS   118039.347222\n",
       "VERSALLES          115700.000000\n",
       "MONTE CASTRO       114795.471154\n",
       "BOEDO              113460.076555\n",
       "SAN CRISTOBAL      111618.855000\n",
       "VELEZ SARSFIELD    110810.415584\n",
       "FLORESTA           109538.025641\n",
       "BOCA               105390.602094\n",
       "PARQUE AVELLANEDA  104530.421053\n",
       "VILLA SANTA RITA   103018.181818\n",
       "CONSTITUCION       102435.944751\n",
       "VILLA RIACHUELO     90200.000000\n",
       "VILLA REAL          87444.444444\n",
       "VILLA SOLDATI       87150.000000\n",
       "VILLA LUGANO        77437.500000\n",
       "NUEVA POMPEYA       74044.447368"
      ]
     },
     "execution_count": 29,
     "metadata": {},
     "output_type": "execute_result"
    }
   ],
   "source": [
    "df.pivot_table('DOLARES','BARRIO').sort_values(by='DOLARES',ascending = False)"
   ]
  },
  {
   "cell_type": "markdown",
   "metadata": {
    "colab_type": "text",
    "id": "P6GWXEuEu3Fx"
   },
   "source": [
    "### 5. ¿En qué barrio hay una mayor dispersión de precios de metro cuadrado? Ordenar los valores para identificar el mayor.\n",
    "\n",
    "(Recordar la fórmula del coeficiente de variación para medir la dispersión)"
   ]
  },
  {
   "cell_type": "markdown",
   "metadata": {
    "colab_type": "text",
    "id": "I66gRQe4u3Fy"
   },
   "source": [
    "**Pistas**\n",
    "* Una primera opción es definir una función con arrays y utilizar `.apply()`"
   ]
  },
  {
   "cell_type": "code",
   "execution_count": 0,
   "metadata": {
    "colab": {},
    "colab_type": "code",
    "id": "9_yl2f60u3F0"
   },
   "outputs": [],
   "source": []
  },
  {
   "cell_type": "markdown",
   "metadata": {
    "colab_type": "text",
    "id": "qcy2yfelu3F4"
   },
   "source": [
    "* Una segunda, es generar dos series: \n",
    "  - una con el método `.std()` y dividirla por otra serie generada con `mean()`"
   ]
  },
  {
   "cell_type": "code",
   "execution_count": 0,
   "metadata": {
    "colab": {},
    "colab_type": "code",
    "id": "_3iuWHZUu3F5"
   },
   "outputs": [],
   "source": []
  },
  {
   "cell_type": "markdown",
   "metadata": {
    "colab_type": "text",
    "id": "x_0g6rdLu3F8"
   },
   "source": [
    "**Bonus:** ¿cuál le parece mejor y por qué?"
   ]
  },
  {
   "cell_type": "code",
   "execution_count": 0,
   "metadata": {
    "colab": {},
    "colab_type": "code",
    "id": "mgI015V7u3F9"
   },
   "outputs": [],
   "source": []
  },
  {
   "cell_type": "markdown",
   "metadata": {
    "colab_type": "text",
    "id": "LpcBJ1qNu3GB"
   },
   "source": [
    "### 6. ¿En qué barrio los departamentos son más grandes? \n",
    "¿Conviene usar la media o la mediana?\n",
    "\n",
    "Nota: se puede realizar el cálculo tanto con groupby como con pivot tables"
   ]
  },
  {
   "cell_type": "code",
   "execution_count": 0,
   "metadata": {
    "colab": {},
    "colab_type": "code",
    "id": "HumAy9i8u3GC"
   },
   "outputs": [],
   "source": []
  },
  {
   "cell_type": "code",
   "execution_count": 0,
   "metadata": {
    "colab": {},
    "colab_type": "code",
    "id": "JTI7JcBUu3GJ"
   },
   "outputs": [],
   "source": []
  },
  {
   "cell_type": "markdown",
   "metadata": {
    "colab_type": "text",
    "id": "374DRS5Yu3GS"
   },
   "source": [
    "### 7. En general, puede observarse alguna diferencia entre el precio mediano de aquellos departamentos que tienen terraza y los que no? ¿Y en el tamaño?"
   ]
  },
  {
   "cell_type": "code",
   "execution_count": 0,
   "metadata": {
    "colab": {},
    "colab_type": "code",
    "id": "eC3T-xyHu3GU"
   },
   "outputs": [],
   "source": []
  },
  {
   "cell_type": "code",
   "execution_count": 0,
   "metadata": {
    "colab": {},
    "colab_type": "code",
    "id": "vCgJ1-X-u3Gd"
   },
   "outputs": [],
   "source": []
  },
  {
   "cell_type": "markdown",
   "metadata": {
    "colab_type": "text",
    "id": "jv7tbCvxu3Gn"
   },
   "source": [
    "### 8. Genere un `DataFrame` que agregue la información  promedio del precio por M2 (`U_S_M2`), ambientes (`AMBIENTES`) y antigüedad (`ANTIGUEDAD`) a nivel de `COMUNA` y barrio (`BARRIO`). Proporcione información tanto de la tendencia central como de la dispersión de ambas distribuciones."
   ]
  },
  {
   "cell_type": "code",
   "execution_count": 0,
   "metadata": {
    "colab": {},
    "colab_type": "code",
    "id": "zlA1Szj0u3Go"
   },
   "outputs": [],
   "source": []
  },
  {
   "cell_type": "markdown",
   "metadata": {
    "colab_type": "text",
    "id": "rTCXH1mmu3Gt"
   },
   "source": [
    "### 9. Si tuvieran que tomar una decisión sobre dónde invertir en una casa... ¿qué barrio elegirían? ¿Por qué?"
   ]
  },
  {
   "cell_type": "code",
   "execution_count": 0,
   "metadata": {
    "colab": {},
    "colab_type": "code",
    "id": "QdwFm6rZu3Gv"
   },
   "outputs": [],
   "source": []
  }
 ],
 "metadata": {
  "colab": {
   "name": "3.Starter_LAB_Pandas2.ipynb",
   "provenance": [],
   "version": "0.3.2"
  },
  "kernelspec": {
   "display_name": "Python 3",
   "language": "python",
   "name": "python3"
  },
  "language_info": {
   "codemirror_mode": {
    "name": "ipython",
    "version": 3
   },
   "file_extension": ".py",
   "mimetype": "text/x-python",
   "name": "python",
   "nbconvert_exporter": "python",
   "pygments_lexer": "ipython3",
   "version": "3.6.6"
  }
 },
 "nbformat": 4,
 "nbformat_minor": 1
}
