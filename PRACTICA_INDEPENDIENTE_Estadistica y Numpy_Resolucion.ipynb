{
 "cells": [
  {
   "cell_type": "markdown",
   "metadata": {},
   "source": [
    "### Práctica independiente\n",
    "\n",
    "Responder las preguntas utilizando la distribución definida en la variable **dist** en la próxima celda."
   ]
  },
  {
   "cell_type": "code",
   "execution_count": 1,
   "metadata": {},
   "outputs": [],
   "source": [
    "import numpy as np\n",
    "from scipy.stats import mode\n",
    "\n",
    "dist = [33.3, 8.0, 2.7, 7.0, 11.3, 10.2, 38.4, 14.7, 46.9, 6.6, 38.6, 41.1, 20.4, 19.5,\n",
    "        102.6, 111.5, 21.8, 27.0, 30.3, 9.3, 19.6, 31.1, 48.8, 8.9, 11.4, 0.6, 23.5,\n",
    "        8.0, 27.5, 69.7, 11.5, 15.5, 1.4, 7.0, 4.6, 6.0, 16.0, 17.2, 6.3, 26.2, 23.9,\n",
    "        45.9, 55.4, 100.8, 22.9, 75.5, 115.5, 58.9, 10.5, 92.6, 12.4, 102.7, 10.2, 167.6,\n",
    "        143.6, 132.3, 134.2, 39.4, 49.7, 12.0, 27.0, 1.3, 4.7, 5.0, 24.1, 21.5, 33.1,\n",
    "        45.6, 46.3, 15.8, 30.7, 15.7, 6.8, 64.6, 39.1, 2.9, 8.0, 5.4, 33.4, 40.0, 22.7,\n",
    "        24.2, 25.7, 85.0, 26.2, 3.3, 20.7, 117.4, 66.8, 44.3, 37.9, 71.8, 161.4, 45.9,\n",
    "        4.6, 6.6, 12.6, 24.4, 21.4, 33.6, 33.7, 18.8, 7.6, 36.3, 1.8, 83.2, 75.1, 71.3,\n",
    "        32.9, 30.6, 16.0, 6.9, 11.0, 9.4, 11.7, 13.8, 39.4, 4.3, 38.1, 60.1, 78.2, 49.6,\n",
    "        14.3, 8.0, 19.3, 30.8, 32.5, 29.6, 28.3, 32.4, 35.7, 36.7, 10.0, 8.5, 12.2, 22.6,\n",
    "        32.1, 25.7, 14.1, 20.9, 23.8, 29.5, 2.9, 42.3, 19.9, 47.5, 15.9, 6.0, 19.3, 38.2,\n",
    "        23.5, 2.7, 27.0, 49.9, 43.5, 31.7, 39.1, 15.1, 18.0, 33.8, 32.1, 50.7, 28.8, 11.6,\n",
    "        74.8, 16.2, 8.3, 36.3, 44.0, 15.6, 48.9, 7.3, 8.2, 29.8, 38.7, 3.9, 7.2, 5.1, 23.7,\n",
    "        48.4, 92.0, 64.3, 97.4, 99.1, 18.0, 7.1, 14.7, 47.1, 41.3, 44.2, 6.5, 44.4, 9.7,\n",
    "        15.5, 23.7, 34.5, 19.9, 58.6, 35.0, 66.1, 74.5, 45.2]"
   ]
  },
  {
   "cell_type": "markdown",
   "metadata": {},
   "source": [
    "##### P1: Calcular la media de *dist*"
   ]
  },
  {
   "cell_type": "code",
   "execution_count": 15,
   "metadata": {},
   "outputs": [
    {
     "data": {
      "text/plain": [
       "33.995049504950494"
      ]
     },
     "execution_count": 15,
     "metadata": {},
     "output_type": "execute_result"
    }
   ],
   "source": [
    "npdist = np.array(dist)\n",
    "npdist.mean()\n"
   ]
  },
  {
   "cell_type": "markdown",
   "metadata": {},
   "source": [
    "##### P2: Calcular la mediana de dist"
   ]
  },
  {
   "cell_type": "code",
   "execution_count": 16,
   "metadata": {},
   "outputs": [
    {
     "data": {
      "text/plain": [
       "25.95"
      ]
     },
     "execution_count": 16,
     "metadata": {},
     "output_type": "execute_result"
    }
   ],
   "source": [
    "np.median(npdist)\n"
   ]
  },
  {
   "cell_type": "markdown",
   "metadata": {},
   "source": [
    "##### P3: Redondear los números de dist y luego calcular la moda"
   ]
  },
  {
   "cell_type": "code",
   "execution_count": 17,
   "metadata": {},
   "outputs": [
    {
     "data": {
      "text/plain": [
       "array([ 33.3,   8. ,   2.7,   7. ,  11.3,  10.2,  38.4,  14.7,  46.9,\n",
       "         6.6,  38.6,  41.1,  20.4,  19.5, 102.6, 111.5,  21.8,  27. ,\n",
       "        30.3,   9.3,  19.6,  31.1,  48.8,   8.9,  11.4,   0.6,  23.5,\n",
       "         8. ,  27.5,  69.7,  11.5,  15.5,   1.4,   7. ,   4.6,   6. ,\n",
       "        16. ,  17.2,   6.3,  26.2,  23.9,  45.9,  55.4, 100.8,  22.9,\n",
       "        75.5, 115.5,  58.9,  10.5,  92.6,  12.4, 102.7,  10.2, 167.6,\n",
       "       143.6, 132.3, 134.2,  39.4,  49.7,  12. ,  27. ,   1.3,   4.7,\n",
       "         5. ,  24.1,  21.5,  33.1,  45.6,  46.3,  15.8,  30.7,  15.7,\n",
       "         6.8,  64.6,  39.1,   2.9,   8. ,   5.4,  33.4,  40. ,  22.7,\n",
       "        24.2,  25.7,  85. ,  26.2,   3.3,  20.7, 117.4,  66.8,  44.3,\n",
       "        37.9,  71.8, 161.4,  45.9,   4.6,   6.6,  12.6,  24.4,  21.4,\n",
       "        33.6,  33.7,  18.8,   7.6,  36.3,   1.8,  83.2,  75.1,  71.3,\n",
       "        32.9,  30.6,  16. ,   6.9,  11. ,   9.4,  11.7,  13.8,  39.4,\n",
       "         4.3,  38.1,  60.1,  78.2,  49.6,  14.3,   8. ,  19.3,  30.8,\n",
       "        32.5,  29.6,  28.3,  32.4,  35.7,  36.7,  10. ,   8.5,  12.2,\n",
       "        22.6,  32.1,  25.7,  14.1,  20.9,  23.8,  29.5,   2.9,  42.3,\n",
       "        19.9,  47.5,  15.9,   6. ,  19.3,  38.2,  23.5,   2.7,  27. ,\n",
       "        49.9,  43.5,  31.7,  39.1,  15.1,  18. ,  33.8,  32.1,  50.7,\n",
       "        28.8,  11.6,  74.8,  16.2,   8.3,  36.3,  44. ,  15.6,  48.9,\n",
       "         7.3,   8.2,  29.8,  38.7,   3.9,   7.2,   5.1,  23.7,  48.4,\n",
       "        92. ,  64.3,  97.4,  99.1,  18. ,   7.1,  14.7,  47.1,  41.3,\n",
       "        44.2,   6.5,  44.4,   9.7,  15.5,  23.7,  34.5,  19.9,  58.6,\n",
       "        35. ,  66.1,  74.5,  45.2])"
      ]
     },
     "execution_count": 17,
     "metadata": {},
     "output_type": "execute_result"
    }
   ],
   "source": [
    "npdist"
   ]
  },
  {
   "cell_type": "code",
   "execution_count": 29,
   "metadata": {},
   "outputs": [
    {
     "data": {
      "text/plain": [
       "array([ 33.,   8.,   3.,   7.,  11.,  10.,  38.,  15.,  47.,   7.,  39.,\n",
       "        41.,  20.,  20., 103., 112.,  22.,  27.,  30.,   9.,  20.,  31.,\n",
       "        49.,   9.,  11.,   1.,  24.,   8.,  28.,  70.,  12.,  16.,   1.,\n",
       "         7.,   5.,   6.,  16.,  17.,   6.,  26.,  24.,  46.,  55., 101.,\n",
       "        23.,  76., 116.,  59.,  10.,  93.,  12., 103.,  10., 168., 144.,\n",
       "       132., 134.,  39.,  50.,  12.,  27.,   1.,   5.,   5.,  24.,  22.,\n",
       "        33.,  46.,  46.,  16.,  31.,  16.,   7.,  65.,  39.,   3.,   8.,\n",
       "         5.,  33.,  40.,  23.,  24.,  26.,  85.,  26.,   3.,  21., 117.,\n",
       "        67.,  44.,  38.,  72., 161.,  46.,   5.,   7.,  13.,  24.,  21.,\n",
       "        34.,  34.,  19.,   8.,  36.,   2.,  83.,  75.,  71.,  33.,  31.,\n",
       "        16.,   7.,  11.,   9.,  12.,  14.,  39.,   4.,  38.,  60.,  78.,\n",
       "        50.,  14.,   8.,  19.,  31.,  32.,  30.,  28.,  32.,  36.,  37.,\n",
       "        10.,   8.,  12.,  23.,  32.,  26.,  14.,  21.,  24.,  30.,   3.,\n",
       "        42.,  20.,  48.,  16.,   6.,  19.,  38.,  24.,   3.,  27.,  50.,\n",
       "        44.,  32.,  39.,  15.,  18.,  34.,  32.,  51.,  29.,  12.,  75.,\n",
       "        16.,   8.,  36.,  44.,  16.,  49.,   7.,   8.,  30.,  39.,   4.,\n",
       "         7.,   5.,  24.,  48.,  92.,  64.,  97.,  99.,  18.,   7.,  15.,\n",
       "        47.,  41.,  44.,   6.,  44.,  10.,  16.,  24.,  34.,  20.,  59.,\n",
       "        35.,  66.,  74.,  45.])"
      ]
     },
     "execution_count": 29,
     "metadata": {},
     "output_type": "execute_result"
    }
   ],
   "source": [
    "npdist = np.round(dist)\n",
    "npdist"
   ]
  },
  {
   "cell_type": "code",
   "execution_count": 30,
   "metadata": {},
   "outputs": [
    {
     "data": {
      "text/plain": [
       "7.0"
      ]
     },
     "execution_count": 30,
     "metadata": {},
     "output_type": "execute_result"
    }
   ],
   "source": [
    "mode(npdist)[0][0]"
   ]
  },
  {
   "cell_type": "markdown",
   "metadata": {},
   "source": [
    "##### P4: Determinar si dist es asimétrica. En caso que lo sea, ¿en qué sentido lo es? ¿Por qué?\n",
    "##### Asimetrica a derecha "
   ]
  },
  {
   "cell_type": "code",
   "execution_count": 31,
   "metadata": {},
   "outputs": [
    {
     "data": {
      "text/plain": [
       "26.0"
      ]
     },
     "execution_count": 31,
     "metadata": {},
     "output_type": "execute_result"
    }
   ],
   "source": [
    "np.median(npdist)"
   ]
  },
  {
   "cell_type": "code",
   "execution_count": 32,
   "metadata": {},
   "outputs": [
    {
     "data": {
      "text/plain": [
       "34.024752475247524"
      ]
     },
     "execution_count": 32,
     "metadata": {},
     "output_type": "execute_result"
    }
   ],
   "source": [
    "npdist.mean()"
   ]
  },
  {
   "cell_type": "code",
   "execution_count": 50,
   "metadata": {},
   "outputs": [
    {
     "data": {
      "text/plain": [
       "ModeResult(mode=array([7.]), count=array([9]))"
      ]
     },
     "execution_count": 50,
     "metadata": {},
     "output_type": "execute_result"
    }
   ],
   "source": [
    "mode(npdist)"
   ]
  },
  {
   "cell_type": "markdown",
   "metadata": {},
   "source": [
    "##### P5: Calcular el rango de dist"
   ]
  },
  {
   "cell_type": "code",
   "execution_count": 34,
   "metadata": {},
   "outputs": [
    {
     "data": {
      "text/plain": [
       "167.0"
      ]
     },
     "execution_count": 34,
     "metadata": {},
     "output_type": "execute_result"
    }
   ],
   "source": [
    "np.ptp(npdist)"
   ]
  },
  {
   "cell_type": "markdown",
   "metadata": {},
   "source": [
    "##### P6: Calcular la varianza de dist"
   ]
  },
  {
   "cell_type": "code",
   "execution_count": 35,
   "metadata": {},
   "outputs": [
    {
     "data": {
      "text/plain": [
       "958.3607734535831"
      ]
     },
     "execution_count": 35,
     "metadata": {},
     "output_type": "execute_result"
    }
   ],
   "source": [
    "np.var(npdist)"
   ]
  },
  {
   "cell_type": "markdown",
   "metadata": {},
   "source": [
    "##### P7: Calcular el desvío estándar de dist."
   ]
  },
  {
   "cell_type": "code",
   "execution_count": 36,
   "metadata": {},
   "outputs": [
    {
     "data": {
      "text/plain": [
       "30.957402563096004"
      ]
     },
     "execution_count": 36,
     "metadata": {},
     "output_type": "execute_result"
    }
   ],
   "source": [
    "np.std(npdist)"
   ]
  },
  {
   "cell_type": "markdown",
   "metadata": {},
   "source": [
    "##### Desafío: Calcular la moda sin usar la función de SciPy"
   ]
  },
  {
   "cell_type": "code",
   "execution_count": 46,
   "metadata": {},
   "outputs": [
    {
     "data": {
      "text/plain": [
       "202"
      ]
     },
     "execution_count": 46,
     "metadata": {},
     "output_type": "execute_result"
    }
   ],
   "source": [
    "len(npdist)"
   ]
  },
  {
   "cell_type": "code",
   "execution_count": 47,
   "metadata": {},
   "outputs": [
    {
     "data": {
      "text/plain": [
       "13.5"
      ]
     },
     "execution_count": 47,
     "metadata": {},
     "output_type": "execute_result"
    }
   ],
   "source": [
    "(npdist[int(len(npdist)/2)]+npdist[int(len(npdist)/2+1)])/2"
   ]
  },
  {
   "cell_type": "code",
   "execution_count": 48,
   "metadata": {},
   "outputs": [
    {
     "data": {
      "text/plain": [
       "19.0"
      ]
     },
     "execution_count": 48,
     "metadata": {},
     "output_type": "execute_result"
    }
   ],
   "source": [
    "npdist[int(len(npdist)/2)]"
   ]
  },
  {
   "cell_type": "code",
   "execution_count": 49,
   "metadata": {},
   "outputs": [
    {
     "data": {
      "text/plain": [
       "8.0"
      ]
     },
     "execution_count": 49,
     "metadata": {},
     "output_type": "execute_result"
    }
   ],
   "source": [
    "npdist[int(len(npdist)/2+1)]"
   ]
  },
  {
   "cell_type": "code",
   "execution_count": 51,
   "metadata": {},
   "outputs": [
    {
     "data": {
      "text/plain": [
       "[33.3,\n",
       " 8.0,\n",
       " 2.7,\n",
       " 7.0,\n",
       " 11.3,\n",
       " 10.2,\n",
       " 38.4,\n",
       " 14.7,\n",
       " 46.9,\n",
       " 6.6,\n",
       " 38.6,\n",
       " 41.1,\n",
       " 20.4,\n",
       " 19.5,\n",
       " 102.6,\n",
       " 111.5,\n",
       " 21.8,\n",
       " 27.0,\n",
       " 30.3,\n",
       " 9.3,\n",
       " 19.6,\n",
       " 31.1,\n",
       " 48.8,\n",
       " 8.9,\n",
       " 11.4,\n",
       " 0.6,\n",
       " 23.5,\n",
       " 8.0,\n",
       " 27.5,\n",
       " 69.7,\n",
       " 11.5,\n",
       " 15.5,\n",
       " 1.4,\n",
       " 7.0,\n",
       " 4.6,\n",
       " 6.0,\n",
       " 16.0,\n",
       " 17.2,\n",
       " 6.3,\n",
       " 26.2,\n",
       " 23.9,\n",
       " 45.9,\n",
       " 55.4,\n",
       " 100.8,\n",
       " 22.9,\n",
       " 75.5,\n",
       " 115.5,\n",
       " 58.9,\n",
       " 10.5,\n",
       " 92.6,\n",
       " 12.4,\n",
       " 102.7,\n",
       " 10.2,\n",
       " 167.6,\n",
       " 143.6,\n",
       " 132.3,\n",
       " 134.2,\n",
       " 39.4,\n",
       " 49.7,\n",
       " 12.0,\n",
       " 27.0,\n",
       " 1.3,\n",
       " 4.7,\n",
       " 5.0,\n",
       " 24.1,\n",
       " 21.5,\n",
       " 33.1,\n",
       " 45.6,\n",
       " 46.3,\n",
       " 15.8,\n",
       " 30.7,\n",
       " 15.7,\n",
       " 6.8,\n",
       " 64.6,\n",
       " 39.1,\n",
       " 2.9,\n",
       " 8.0,\n",
       " 5.4,\n",
       " 33.4,\n",
       " 40.0,\n",
       " 22.7,\n",
       " 24.2,\n",
       " 25.7,\n",
       " 85.0,\n",
       " 26.2,\n",
       " 3.3,\n",
       " 20.7,\n",
       " 117.4,\n",
       " 66.8,\n",
       " 44.3,\n",
       " 37.9,\n",
       " 71.8,\n",
       " 161.4,\n",
       " 45.9,\n",
       " 4.6,\n",
       " 6.6,\n",
       " 12.6,\n",
       " 24.4,\n",
       " 21.4,\n",
       " 33.6,\n",
       " 33.7,\n",
       " 18.8,\n",
       " 7.6,\n",
       " 36.3,\n",
       " 1.8,\n",
       " 83.2,\n",
       " 75.1,\n",
       " 71.3,\n",
       " 32.9,\n",
       " 30.6,\n",
       " 16.0,\n",
       " 6.9,\n",
       " 11.0,\n",
       " 9.4,\n",
       " 11.7,\n",
       " 13.8,\n",
       " 39.4,\n",
       " 4.3,\n",
       " 38.1,\n",
       " 60.1,\n",
       " 78.2,\n",
       " 49.6,\n",
       " 14.3,\n",
       " 8.0,\n",
       " 19.3,\n",
       " 30.8,\n",
       " 32.5,\n",
       " 29.6,\n",
       " 28.3,\n",
       " 32.4,\n",
       " 35.7,\n",
       " 36.7,\n",
       " 10.0,\n",
       " 8.5,\n",
       " 12.2,\n",
       " 22.6,\n",
       " 32.1,\n",
       " 25.7,\n",
       " 14.1,\n",
       " 20.9,\n",
       " 23.8,\n",
       " 29.5,\n",
       " 2.9,\n",
       " 42.3,\n",
       " 19.9,\n",
       " 47.5,\n",
       " 15.9,\n",
       " 6.0,\n",
       " 19.3,\n",
       " 38.2,\n",
       " 23.5,\n",
       " 2.7,\n",
       " 27.0,\n",
       " 49.9,\n",
       " 43.5,\n",
       " 31.7,\n",
       " 39.1,\n",
       " 15.1,\n",
       " 18.0,\n",
       " 33.8,\n",
       " 32.1,\n",
       " 50.7,\n",
       " 28.8,\n",
       " 11.6,\n",
       " 74.8,\n",
       " 16.2,\n",
       " 8.3,\n",
       " 36.3,\n",
       " 44.0,\n",
       " 15.6,\n",
       " 48.9,\n",
       " 7.3,\n",
       " 8.2,\n",
       " 29.8,\n",
       " 38.7,\n",
       " 3.9,\n",
       " 7.2,\n",
       " 5.1,\n",
       " 23.7,\n",
       " 48.4,\n",
       " 92.0,\n",
       " 64.3,\n",
       " 97.4,\n",
       " 99.1,\n",
       " 18.0,\n",
       " 7.1,\n",
       " 14.7,\n",
       " 47.1,\n",
       " 41.3,\n",
       " 44.2,\n",
       " 6.5,\n",
       " 44.4,\n",
       " 9.7,\n",
       " 15.5,\n",
       " 23.7,\n",
       " 34.5,\n",
       " 19.9,\n",
       " 58.6,\n",
       " 35.0,\n",
       " 66.1,\n",
       " 74.5,\n",
       " 45.2]"
      ]
     },
     "execution_count": 51,
     "metadata": {},
     "output_type": "execute_result"
    }
   ],
   "source": [
    "unique = []\n",
    "for x in dist:\n",
    "    for y in unique:\n",
    "        if x == y.value:\n",
    "            y.count += 1\n",
    "        unique.append(y.value = x, y.count = 1)\n",
    "            \n",
    "            \n",
    "        \n",
    "            \n",
    "    "
   ]
  },
  {
   "cell_type": "code",
   "execution_count": null,
   "metadata": {},
   "outputs": [],
   "source": []
  }
 ],
 "metadata": {
  "kernelspec": {
   "display_name": "Python 3",
   "language": "python",
   "name": "python3"
  },
  "language_info": {
   "codemirror_mode": {
    "name": "ipython",
    "version": 3
   },
   "file_extension": ".py",
   "mimetype": "text/x-python",
   "name": "python",
   "nbconvert_exporter": "python",
   "pygments_lexer": "ipython3",
   "version": "3.7.1"
  }
 },
 "nbformat": 4,
 "nbformat_minor": 1
}
